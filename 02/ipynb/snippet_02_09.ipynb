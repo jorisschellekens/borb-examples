{
  "nbformat": 4,
  "nbformat_minor": 0,
  "metadata": {
    "colab": {
      "provenance": [],
      "authorship_tag": "ABX9TyOBfFnTBj0JTahD9L1wyyH2",
      "include_colab_link": true
    },
    "kernelspec": {
      "name": "python3",
      "display_name": "Python 3"
    },
    "language_info": {
      "name": "python"
    }
  },
  "cells": [
    {
      "cell_type": "markdown",
      "metadata": {
        "id": "view-in-github",
        "colab_type": "text"
      },
      "source": [
        "<a href=\"https://colab.research.google.com/github/jorisschellekens/borb-examples/blob/master/02/ipynb/snippet_02_09.ipynb\" target=\"_parent\"><img src=\"https://colab.research.google.com/assets/colab-badge.svg\" alt=\"Open In Colab\"/></a>"
      ]
    },
    {
      "cell_type": "code",
      "execution_count": 1,
      "metadata": {
        "colab": {
          "base_uri": "https://localhost:8080/"
        },
        "id": "Xk1o3dEw2uVo",
        "outputId": "c6660758-a181-4589-e606-4f7ec3bb2e1c"
      },
      "outputs": [
        {
          "output_type": "stream",
          "name": "stdout",
          "text": [
            "Collecting borb\n",
            "  Downloading borb-3.0.0-py3-none-any.whl.metadata (3.6 kB)\n",
            "Requirement already satisfied: setuptools>=51.1.1 in /usr/local/lib/python3.11/dist-packages (from borb) (75.2.0)\n",
            "Downloading borb-3.0.0-py3-none-any.whl (3.1 MB)\n",
            "\u001b[2K   \u001b[90m━━━━━━━━━━━━━━━━━━━━━━━━━━━━━━━━━━━━━━━━\u001b[0m \u001b[32m3.1/3.1 MB\u001b[0m \u001b[31m8.7 MB/s\u001b[0m eta \u001b[36m0:00:00\u001b[0m\n",
            "\u001b[?25hInstalling collected packages: borb\n",
            "Successfully installed borb-3.0.0\n"
          ]
        }
      ],
      "source": [
        "!pip install borb"
      ]
    },
    {
      "cell_type": "code",
      "source": [
        "# snippet_02_09.ipynb\n",
        "from borb.pdf import (\n",
        "    CMYKColor,\n",
        "    Document,\n",
        "    Page,\n",
        "    PageLayout,\n",
        "    Paragraph,\n",
        "    PDF,\n",
        "    SingleColumnLayout,\n",
        ")\n",
        "\n",
        "# Create an empty Document\n",
        "d: Document = Document()\n",
        "\n",
        "# Create an empty Page\n",
        "p: Page = Page()\n",
        "d.append_page(p)\n",
        "\n",
        "# Create a PageLayout\n",
        "l: PageLayout = SingleColumnLayout(p)\n",
        "\n",
        "# Add a Paragraph\n",
        "l.append_layout_element(Paragraph('Hello World!', font_color=CMYKColor(cyan=0, magenta=0.15, yellow=0.81, key=0.05)))\n",
        "\n",
        "# Write the PDF\n",
        "PDF.write(what=d, where_to=\"output.pdf\")"
      ],
      "metadata": {
        "id": "IT6vCTzo3L9o"
      },
      "execution_count": 2,
      "outputs": []
    }
  ]
}