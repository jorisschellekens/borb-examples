{
  "nbformat": 4,
  "nbformat_minor": 0,
  "metadata": {
    "colab": {
      "provenance": [],
      "authorship_tag": "ABX9TyM2eIo6w1cuhqEmfM6W8yCe",
      "include_colab_link": true
    },
    "kernelspec": {
      "name": "python3",
      "display_name": "Python 3"
    },
    "language_info": {
      "name": "python"
    }
  },
  "cells": [
    {
      "cell_type": "markdown",
      "metadata": {
        "id": "view-in-github",
        "colab_type": "text"
      },
      "source": [
        "<a href=\"https://colab.research.google.com/github/jorisschellekens/birb-examples/blob/main/02/ipynb/snippet_02_20.ipynb\" target=\"_parent\"><img src=\"https://colab.research.google.com/assets/colab-badge.svg\" alt=\"Open In Colab\"/></a>"
      ]
    },
    {
      "cell_type": "code",
      "execution_count": null,
      "metadata": {
        "colab": {
          "base_uri": "https://localhost:8080/"
        },
        "id": "CQw54L-jRi1B",
        "outputId": "c69bea6a-5d77-4738-a42e-340d89360171"
      },
      "outputs": [
        {
          "output_type": "stream",
          "name": "stdout",
          "text": [
            "Processing ./borb-3.0.0-py3-none-any.whl\n",
            "Requirement already satisfied: setuptools>=51.1.1 in /usr/local/lib/python3.11/dist-packages (from borb==3.0.0) (75.1.0)\n",
            "Installing collected packages: borb\n",
            "Successfully installed borb-3.0.0\n"
          ]
        }
      ],
      "source": [
        "!pip install borb-3.0.0-py3-none-any.whl"
      ]
    },
    {
      "cell_type": "code",
      "source": [
        "# snippet_02_20.ipynb\n",
        "from borb.pdf import (\n",
        "    Document,\n",
        "    Page,\n",
        "    PageLayout,\n",
        "    SingleColumnLayout,\n",
        "    Paragraph,\n",
        "    PDF,\n",
        "    Standard14Fonts,\n",
        "    X11Color,\n",
        "    Lipsum,\n",
        ")\n",
        "\n",
        "# Create an empty Document\n",
        "d: Document = Document()\n",
        "\n",
        "# Create an empty Page\n",
        "p: Page = Page()\n",
        "d.append_page(p)\n",
        "\n",
        "# Create a PageLayout\n",
        "l: PageLayout = SingleColumnLayout(p)\n",
        "\n",
        "# Add a title Paragraph\n",
        "l.append_layout_element(\n",
        "    Paragraph(\n",
        "        \"Hello Larger World!\",\n",
        "        font=Standard14Fonts.get(\"Helvetiva-Bold\"),\n",
        "        font_size=18,\n",
        "        font_color=X11Color.YELLOW_MUNSELL,\n",
        "    )\n",
        ")\n",
        "\n",
        "# Add 5 Paragraphs of randomly generated text\n",
        "for _ in range(0, 5):\n",
        "    l.append_layout_element(Paragraph(Lipsum.generate_lorem_ipsum(512)))\n",
        "\n",
        "# Write the PDF\n",
        "PDF.write(what=d, where_to=\"output.pdf\")\n"
      ],
      "metadata": {
        "id": "20IbiqzoRsf_"
      },
      "execution_count": null,
      "outputs": []
    }
  ]
}