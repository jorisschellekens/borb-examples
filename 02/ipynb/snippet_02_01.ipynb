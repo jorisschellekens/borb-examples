{
  "nbformat": 4,
  "nbformat_minor": 0,
  "metadata": {
    "colab": {
      "provenance": [],
      "authorship_tag": "ABX9TyN1Lvvppv6RRN1dXU1wE0oP",
      "include_colab_link": true
    },
    "kernelspec": {
      "name": "python3",
      "display_name": "Python 3"
    },
    "language_info": {
      "name": "python"
    }
  },
  "cells": [
    {
      "cell_type": "markdown",
      "metadata": {
        "id": "view-in-github",
        "colab_type": "text"
      },
      "source": [
        "<a href=\"https://colab.research.google.com/github/jorisschellekens/borb-examples/blob/master/02/ipynb/snippet_02_01.ipynb\" target=\"_parent\"><img src=\"https://colab.research.google.com/assets/colab-badge.svg\" alt=\"Open In Colab\"/></a>"
      ]
    },
    {
      "cell_type": "code",
      "execution_count": null,
      "metadata": {
        "colab": {
          "base_uri": "https://localhost:8080/"
        },
        "id": "Xk1o3dEw2uVo",
        "outputId": "61a45999-40a9-487b-e27f-b0a6fd32f3cb"
      },
      "outputs": [
        {
          "output_type": "stream",
          "name": "stdout",
          "text": [
            "Processing ./borb-3.0.0-py3-none-any.whl\n",
            "Requirement already satisfied: setuptools>=51.1.1 in /usr/local/lib/python3.11/dist-packages (from borb==3.0.0) (75.1.0)\n",
            "Installing collected packages: borb\n",
            "Successfully installed borb-3.0.0\n"
          ]
        }
      ],
      "source": [
        "!pip install borb"
      ]
    },
    {
      "cell_type": "code",
      "source": [
        "# snippet_02_01.ipynb\n",
        "from borb.pdf import (\n",
        "    Document,\n",
        "    Page,\n",
        "    PageLayout,\n",
        "    Paragraph,\n",
        "    PDF,\n",
        "    SingleColumnLayout,\n",
        "    Standard14Fonts,\n",
        ")\n",
        "\n",
        "# Create an empty Document\n",
        "d: Document = Document()\n",
        "\n",
        "# Create an empty Page\n",
        "p: Page = Page()\n",
        "d.append_page(p)\n",
        "\n",
        "# Create a PageLayout\n",
        "l: PageLayout = SingleColumnLayout(p)\n",
        "\n",
        "# Add a Paragraph\n",
        "l.append_layout_element(Paragraph(\"Hello World!\", font=Standard14Fonts.get(\"Courier\")))\n",
        "\n",
        "# Write the PDF\n",
        "PDF.write(what=d, where_to=\"output.pdf\")\n"
      ],
      "metadata": {
        "id": "IT6vCTzo3L9o"
      },
      "execution_count": null,
      "outputs": []
    }
  ]
}