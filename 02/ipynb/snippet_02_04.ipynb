{
  "nbformat": 4,
  "nbformat_minor": 0,
  "metadata": {
    "colab": {
      "provenance": [],
      "authorship_tag": "ABX9TyPTKavqB1OorCpe6hV1gp7X",
      "include_colab_link": true
    },
    "kernelspec": {
      "name": "python3",
      "display_name": "Python 3"
    },
    "language_info": {
      "name": "python"
    }
  },
  "cells": [
    {
      "cell_type": "markdown",
      "metadata": {
        "id": "view-in-github",
        "colab_type": "text"
      },
      "source": [
        "<a href=\"https://colab.research.google.com/github/jorisschellekens/birb-examples/blob/main/snippet_02_04.ipynb\" target=\"_parent\"><img src=\"https://colab.research.google.com/assets/colab-badge.svg\" alt=\"Open In Colab\"/></a>"
      ]
    },
    {
      "cell_type": "code",
      "execution_count": null,
      "metadata": {
        "id": "rPB2wgbUMUkG"
      },
      "outputs": [],
      "source": [
        "!pip install --force-reinstall borb-3.0.0-py3-none-any.whl"
      ]
    },
    {
      "cell_type": "code",
      "source": [
        "# snippet_02_04.ipynb\n",
        "from borb.pdf import Document, Page, PageLayout, SingleColumnLayout, Paragraph, PDF, X11Color\n",
        "\n",
        "# Create an empty Document\n",
        "d: Document = Document()\n",
        "\n",
        "# Create an empty Page\n",
        "p: Page = Page()\n",
        "d.append_page(p)\n",
        "\n",
        "# Create a PageLayout\n",
        "l: PageLayout = SingleColumnLayout(p)\n",
        "\n",
        "# Add a Paragraph\n",
        "l.append_layout_element(Paragraph('Hello World!', font_color=X11Color.YELLOW_MUNSELL))\n",
        "\n",
        "# Write the PDF\n",
        "PDF.write(what=d, where_to=\"output.pdf\")"
      ],
      "metadata": {
        "id": "h8oO3f8EMWXy"
      },
      "execution_count": null,
      "outputs": []
    }
  ]
}
