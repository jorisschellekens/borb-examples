{
  "nbformat": 4,
  "nbformat_minor": 0,
  "metadata": {
    "colab": {
      "provenance": [],
      "authorship_tag": "ABX9TyNzqCPkm8XXYCRicHhpBt1Q",
      "include_colab_link": true
    },
    "kernelspec": {
      "name": "python3",
      "display_name": "Python 3"
    },
    "language_info": {
      "name": "python"
    }
  },
  "cells": [
    {
      "cell_type": "markdown",
      "metadata": {
        "id": "view-in-github",
        "colab_type": "text"
      },
      "source": [
        "<a href=\"https://colab.research.google.com/github/jorisschellekens/borb-examples/blob/master/02/ipynb/snippet_02_02.ipynb\" target=\"_parent\"><img src=\"https://colab.research.google.com/assets/colab-badge.svg\" alt=\"Open In Colab\"/></a>"
      ]
    },
    {
      "cell_type": "code",
      "execution_count": null,
      "metadata": {
        "colab": {
          "base_uri": "https://localhost:8080/",
          "height": 340
        },
        "id": "Xk1o3dEw2uVo",
        "outputId": "d26d8f2a-61f4-42af-fa34-13d6be687e45"
      },
      "outputs": [
        {
          "output_type": "stream",
          "name": "stdout",
          "text": [
            "Processing ./borb-3.0.0-py3-none-any.whl\n",
            "Collecting setuptools>=51.1.1 (from borb==3.0.0)\n",
            "  Downloading setuptools-75.8.0-py3-none-any.whl.metadata (6.7 kB)\n",
            "Downloading setuptools-75.8.0-py3-none-any.whl (1.2 MB)\n",
            "\u001b[2K   \u001b[90m━━━━━━━━━━━━━━━━━━━━━━━━━━━━━━━━━━━━━━━━\u001b[0m \u001b[32m1.2/1.2 MB\u001b[0m \u001b[31m13.7 MB/s\u001b[0m eta \u001b[36m0:00:00\u001b[0m\n",
            "\u001b[?25hInstalling collected packages: setuptools, borb\n",
            "  Attempting uninstall: setuptools\n",
            "    Found existing installation: setuptools 75.1.0\n",
            "    Uninstalling setuptools-75.1.0:\n",
            "      Successfully uninstalled setuptools-75.1.0\n",
            "\u001b[31mERROR: pip's dependency resolver does not currently take into account all the packages that are installed. This behaviour is the source of the following dependency conflicts.\n",
            "ipython 7.34.0 requires jedi>=0.16, which is not installed.\u001b[0m\u001b[31m\n",
            "\u001b[0mSuccessfully installed borb-3.0.0 setuptools-75.8.0\n"
          ]
        },
        {
          "output_type": "display_data",
          "data": {
            "application/vnd.colab-display-data+json": {
              "pip_warning": {
                "packages": [
                  "_distutils_hack",
                  "setuptools"
                ]
              },
              "id": "5a5724946755423292b2002e57da4819"
            }
          },
          "metadata": {}
        }
      ],
      "source": [
        "!pip install borb"
      ]
    },
    {
      "cell_type": "code",
      "source": [
        "# snippet_02_02.ipynb\n",
        "from borb.pdf import (\n",
        "    Document,\n",
        "    Font,\n",
        "    Page,\n",
        "    PageLayout,\n",
        "    Paragraph,\n",
        "    PDF,\n",
        "    SingleColumnLayout,\n",
        "    TrueTypeFont,\n",
        ")\n",
        "\n",
        "# Create an empty Document\n",
        "d: Document = Document()\n",
        "\n",
        "# Create an empty Page\n",
        "p: Page = Page()\n",
        "d.append_page(p)\n",
        "\n",
        "# Create a PageLayout\n",
        "l: PageLayout = SingleColumnLayout(p)\n",
        "\n",
        "# Download a Font\n",
        "import requests\n",
        "\n",
        "open(\"Lobster-Regular.ttf\", \"wb\").write(\n",
        "    requests.get(\n",
        "        \"https://github.com/google/fonts/raw/refs/heads/main/ofl/lobster/Lobster-Regular.ttf\"\n",
        "    ).content\n",
        ")\n",
        "\n",
        "\n",
        "# Create a TrueTypeFont\n",
        "font: Font = TrueTypeFont.from_file(\"Lobster-Regular.ttf\")\n",
        "\n",
        "# Add a Paragraph\n",
        "l.append_layout_element(Paragraph(\"Hello World!\", font=font))\n",
        "\n",
        "# Write the PDF\n",
        "PDF.write(what=d, where_to=\"output.pdf\")"
      ],
      "metadata": {
        "id": "IT6vCTzo3L9o"
      },
      "execution_count": null,
      "outputs": []
    }
  ]
}