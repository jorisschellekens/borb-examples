{
  "nbformat": 4,
  "nbformat_minor": 0,
  "metadata": {
    "colab": {
      "provenance": [],
      "authorship_tag": "ABX9TyMqk6KSe8aM3T1vhCNb2+uS",
      "include_colab_link": true
    },
    "kernelspec": {
      "name": "python3",
      "display_name": "Python 3"
    },
    "language_info": {
      "name": "python"
    }
  },
  "cells": [
    {
      "cell_type": "markdown",
      "metadata": {
        "id": "view-in-github",
        "colab_type": "text"
      },
      "source": [
        "<a href=\"https://colab.research.google.com/github/jorisschellekens/birb-examples/blob/main/08/ipynb/snippet_08_06.ipynb\" target=\"_parent\"><img src=\"https://colab.research.google.com/assets/colab-badge.svg\" alt=\"Open In Colab\"/></a>"
      ]
    },
    {
      "cell_type": "code",
      "execution_count": null,
      "metadata": {
        "id": "mGiIDCXCRLRG"
      },
      "outputs": [],
      "source": [
        "!pip install borb"
      ]
    },
    {
      "cell_type": "code",
      "source": [
        "# snippet_08_06.ipynb\n",
        "from borb.pdf import Document, Lipsum, MultiColumnLayout, Page, PageLayout, Paragraph, PDF\n",
        "\n",
        "# Create an empty Document\n",
        "d: Document = Document()\n",
        "\n",
        "# Create an empty Page\n",
        "p: Page = Page()\n",
        "d.append_page(p)\n",
        "\n",
        "# Create a PageLayout\n",
        "l: PageLayout = MultiColumnLayout(p)\n",
        "\n",
        "# Add a few Paragraphs\n",
        "for _ in range(0, 2):\n",
        "  l.append_layout_element(Paragraph(Lipsum.generate_lorem_ipsum(256)))\n",
        "\n",
        "# Skip to the next column\n",
        "l.next_column()\n",
        "\n",
        "# Add a few Paragraphs\n",
        "for _ in range(0, 20):\n",
        "  l.append_layout_element(Paragraph(Lipsum.generate_lorem_ipsum(256)))\n",
        "\n",
        "# Write the PDF\n",
        "PDF.write(what=d, where_to=\"output.pdf\")\n"
      ],
      "metadata": {
        "id": "-EpryMmERMyB"
      },
      "execution_count": null,
      "outputs": []
    }
  ]
}