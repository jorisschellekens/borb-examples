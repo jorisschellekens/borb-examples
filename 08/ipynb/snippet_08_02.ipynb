{
  "nbformat": 4,
  "nbformat_minor": 0,
  "metadata": {
    "colab": {
      "provenance": [],
      "authorship_tag": "ABX9TyNel0KP/rHVZn5khBl8/sCM",
      "include_colab_link": true
    },
    "kernelspec": {
      "name": "python3",
      "display_name": "Python 3"
    },
    "language_info": {
      "name": "python"
    }
  },
  "cells": [
    {
      "cell_type": "markdown",
      "metadata": {
        "id": "view-in-github",
        "colab_type": "text"
      },
      "source": [
        "<a href=\"https://colab.research.google.com/github/jorisschellekens/borb-examples/blob/master/08/ipynb/snippet_08_02.ipynb\" target=\"_parent\"><img src=\"https://colab.research.google.com/assets/colab-badge.svg\" alt=\"Open In Colab\"/></a>"
      ]
    },
    {
      "cell_type": "code",
      "execution_count": null,
      "metadata": {
        "id": "t0al9CSPPynm"
      },
      "outputs": [],
      "source": [
        "!pip install borb"
      ]
    },
    {
      "cell_type": "code",
      "source": [
        "# snippet_08_02.ipynb\n",
        "from borb.pdf import Document, Lipsum, Page, PageLayout, Paragraph, PDF, SingleColumnLayout\n",
        "\n",
        "# Create an empty Document\n",
        "d: Document = Document()\n",
        "\n",
        "# Create an empty Page\n",
        "p: Page = Page()\n",
        "d.append_page(p)\n",
        "\n",
        "# Create a PageLayout\n",
        "l: PageLayout = SingleColumnLayout(p)\n",
        "\n",
        "# Add a few Paragraphs\n",
        "for _ in range(0, 2):\n",
        "  l.append_layout_element(Paragraph(Lipsum.generate_lorem_ipsum(512)))\n",
        "\n",
        "# Switch to the next Page\n",
        "l.next_page()\n",
        "\n",
        "# Add a few Paragraphs\n",
        "for _ in range(0, 2):\n",
        "  l.append_layout_element(Paragraph(Lipsum.generate_lorem_ipsum(512)))\n",
        "\n",
        "# Write the PDF\n",
        "PDF.write(what=d, where_to=\"output.pdf\")"
      ],
      "metadata": {
        "id": "YMFeDuGAP1It"
      },
      "execution_count": null,
      "outputs": []
    }
  ]
}