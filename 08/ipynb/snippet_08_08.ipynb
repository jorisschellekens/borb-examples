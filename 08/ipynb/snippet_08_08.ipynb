{
  "nbformat": 4,
  "nbformat_minor": 0,
  "metadata": {
    "colab": {
      "provenance": [],
      "authorship_tag": "ABX9TyPPTRMkUTxrHWT2t9Vx0VQA",
      "include_colab_link": true
    },
    "kernelspec": {
      "name": "python3",
      "display_name": "Python 3"
    },
    "language_info": {
      "name": "python"
    }
  },
  "cells": [
    {
      "cell_type": "markdown",
      "metadata": {
        "id": "view-in-github",
        "colab_type": "text"
      },
      "source": [
        "<a href=\"https://colab.research.google.com/github/jorisschellekens/birb-examples/blob/main/08/ipynb/snippet_08_08.ipynb\" target=\"_parent\"><img src=\"https://colab.research.google.com/assets/colab-badge.svg\" alt=\"Open In Colab\"/></a>"
      ]
    },
    {
      "cell_type": "code",
      "execution_count": null,
      "metadata": {
        "id": "G8Cra9eFTo29"
      },
      "outputs": [],
      "source": [
        "!pip install borb"
      ]
    },
    {
      "cell_type": "code",
      "source": [
        "# snippet_08_08.ipynb\n",
        "from borb.pdf import Document, Page, PageLayout, Paragraph, PDF, SingleColumnLayout\n",
        "\n",
        "# Create a new Document\n",
        "d: Document = Document()\n",
        "\n",
        "# Create and add a new Page\n",
        "p: Page = Page()\n",
        "d.append_page(p)\n",
        "\n",
        "# Useful constant(s)\n",
        "x: int = p.get_size()[0] // 10\n",
        "y: int = p.get_size()[1] // 10\n",
        "w: int = p.get_size()[0] - 2 * (p.get_size()[0] // 10)\n",
        "h: int = p.get_size()[1] - 2 * (p.get_size()[1] // 10)\n",
        "\n",
        "# Add a Paragraph\n",
        "Paragraph(\n",
        "  \"Lorem ipsum dolor sit amet, consectetur adipiscing elit, \"\n",
        "  \"sed do eiusmod tempor incididunt ut labore et dolore magna aliqua.\"\n",
        "  \"Ut enim\"\n",
        "  \"ad minim veniam, quis nostrud exercitation ullamco laboris nisi ut aliquip ex ea commodo consequat. \"\n",
        "  \"Duis aute irure dolor in reprehenderit in voluptate velit esse cillum dolore eu fugiat nulla pariatur. \"\n",
        "  \"Excepteur sint occaecat cupidatat non proident, sunt in culpa qui officia deserunt mollit anim id est laborum.\"\n",
        ").paint(\n",
        "  available_space=(x, y, w, h),\n",
        "  page=p,\n",
        ")\n",
        "\n",
        "# Write the PDF\n",
        "PDF.write(what=d, where_to=\"output.pdf\")\n"
      ],
      "metadata": {
        "id": "2ttxkZG4TqqO"
      },
      "execution_count": null,
      "outputs": []
    }
  ]
}