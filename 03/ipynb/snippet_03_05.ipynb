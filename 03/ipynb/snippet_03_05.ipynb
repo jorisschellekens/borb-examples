{
  "nbformat": 4,
  "nbformat_minor": 0,
  "metadata": {
    "colab": {
      "provenance": [],
      "authorship_tag": "ABX9TyPxBInwkoPhlxnB3v5PIDcH",
      "include_colab_link": true
    },
    "kernelspec": {
      "name": "python3",
      "display_name": "Python 3"
    },
    "language_info": {
      "name": "python"
    }
  },
  "cells": [
    {
      "cell_type": "markdown",
      "metadata": {
        "id": "view-in-github",
        "colab_type": "text"
      },
      "source": [
        "<a href=\"https://colab.research.google.com/github/jorisschellekens/borb-examples/blob/master/03/ipynb/snippet_03_05.ipynb\" target=\"_parent\"><img src=\"https://colab.research.google.com/assets/colab-badge.svg\" alt=\"Open In Colab\"/></a>"
      ]
    },
    {
      "cell_type": "code",
      "execution_count": null,
      "metadata": {
        "id": "aBJF9QvUicld"
      },
      "outputs": [],
      "source": [
        "!pip install borb\n",
        "!pip install openai"
      ]
    },
    {
      "cell_type": "code",
      "source": [
        "# snippet_03_05.ipynb\n",
        "from borb.pdf import DallE, Document, Page, PageLayout, PDF, SingleColumnLayout\n",
        "\n",
        "# Create an empty Document\n",
        "d: Document = Document()\n",
        "\n",
        "# Create an empty Page\n",
        "p: Page = Page()\n",
        "d.append_page(p)\n",
        "\n",
        "# Create a PageLayout\n",
        "l: PageLayout = SingleColumnLayout(p)\n",
        "\n",
        "# Add an Image\n",
        "os.environ[\"OPENAI_API_KEY\"] = \"<your-open-ai-api-key>\"\n",
        "l.append_layout_element(\n",
        "    DallE(\n",
        "        prompt=\"A rotund yellow bird enjoying life\",\n",
        "        size=(100, 100),\n",
        "    )\n",
        ")\n",
        "\n",
        "# Write the PDF\n",
        "PDF.write(what=d, where_to=\"output.pdf\")"
      ],
      "metadata": {
        "id": "Q74QnCAfid6-"
      },
      "execution_count": null,
      "outputs": []
    }
  ]
}