{
  "nbformat": 4,
  "nbformat_minor": 0,
  "metadata": {
    "colab": {
      "provenance": [],
      "authorship_tag": "ABX9TyOoI56vHBP5VbWiMKw3WLC4",
      "include_colab_link": true
    },
    "kernelspec": {
      "name": "python3",
      "display_name": "Python 3"
    },
    "language_info": {
      "name": "python"
    }
  },
  "cells": [
    {
      "cell_type": "markdown",
      "metadata": {
        "id": "view-in-github",
        "colab_type": "text"
      },
      "source": [
        "<a href=\"https://colab.research.google.com/github/jorisschellekens/borb-examples/blob/master/03/ipynb/snippet_03_08.ipynb\" target=\"_parent\"><img src=\"https://colab.research.google.com/assets/colab-badge.svg\" alt=\"Open In Colab\"/></a>"
      ]
    },
    {
      "cell_type": "code",
      "execution_count": null,
      "metadata": {
        "id": "27YHUsNDjM_R"
      },
      "outputs": [],
      "source": [
        "!pip install borb\n",
        "!pip install segno"
      ]
    },
    {
      "cell_type": "code",
      "source": [
        "# snippet_03_08.ipynb\n",
        "from borb.pdf import Document, Page, PageLayout, PDF, QRCode, SingleColumnLayout\n",
        "\n",
        "# Create an empty Document\n",
        "d: Document = Document()\n",
        "\n",
        "# Create an empty Page\n",
        "p: Page = Page()\n",
        "d.append_page(p)\n",
        "\n",
        "# Create a PageLayout\n",
        "l: PageLayout = SingleColumnLayout(p)\n",
        "\n",
        "# Add a QR code\n",
        "l.append_layout_element(\n",
        "    QRCode(\n",
        "        qr_code_data=\"borbpdf.com\",\n",
        "        qr_code_type=QRCode.QRCodeType.MICRO,\n",
        "        size=(100, 100),\n",
        "    )\n",
        ")\n",
        "\n",
        "# Write the PDF\n",
        "PDF.write(what=d, where_to=\"output.pdf\")"
      ],
      "metadata": {
        "id": "sENVqAdVjOYd"
      },
      "execution_count": null,
      "outputs": []
    }
  ]
}