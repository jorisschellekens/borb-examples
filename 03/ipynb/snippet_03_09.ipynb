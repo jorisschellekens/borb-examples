{
  "nbformat": 4,
  "nbformat_minor": 0,
  "metadata": {
    "colab": {
      "provenance": [],
      "authorship_tag": "ABX9TyO7a7ovnxH8qa7b8J9aPqX5",
      "include_colab_link": true
    },
    "kernelspec": {
      "name": "python3",
      "display_name": "Python 3"
    },
    "language_info": {
      "name": "python"
    }
  },
  "cells": [
    {
      "cell_type": "markdown",
      "metadata": {
        "id": "view-in-github",
        "colab_type": "text"
      },
      "source": [
        "<a href=\"https://colab.research.google.com/github/jorisschellekens/borb-examples/blob/master/03/ipynb/snippet_03_09.ipynb\" target=\"_parent\"><img src=\"https://colab.research.google.com/assets/colab-badge.svg\" alt=\"Open In Colab\"/></a>"
      ]
    },
    {
      "cell_type": "code",
      "execution_count": null,
      "metadata": {
        "id": "xD5TCiDXja-F"
      },
      "outputs": [],
      "source": [
        "!pip install borb\n",
        "!pip install py_avataaars"
      ]
    },
    {
      "cell_type": "code",
      "source": [
        "# snippet_03_09.ipynb\n",
        "from borb.pdf import Avatar, Document, Page, PageLayout, PDF, SingleColumnLayout, X11Color\n",
        "\n",
        "# Create an empty Document\n",
        "d: Document = Document()\n",
        "\n",
        "# Create an empty Page\n",
        "p: Page = Page()\n",
        "d.append_page(p)\n",
        "\n",
        "# Create a PageLayout\n",
        "l: PageLayout = SingleColumnLayout(p)\n",
        "\n",
        "# Add a Barcode\n",
        "l.append_layout_element(\n",
        "    Avatar(\n",
        "        background_circle_color=X11Color.BLUE,\n",
        "        clothing_type=Avatar.ClothingType.BLAZER_AND_SHIRT,\n",
        "        eye_type=Avatar.EyeType.HAPPY,\n",
        "        facial_hair_type=Avatar.FacialHairType.BEARD_LIGHT,\n",
        "        hair_color_type=Avatar.HairColorType.BLACK,\n",
        "        mouth_type=Avatar.MouthType.SERIOUS,\n",
        "        top_of_head_type=Avatar.TopOfHeadType.SHORT_HAIR_THE_CAESAR,\n",
        "    )\n",
        ")\n",
        "\n",
        "# Write the PDF\n",
        "PDF.write(what=d, where_to=\"output.pdf\")"
      ],
      "metadata": {
        "id": "q2OTi0Xijco8"
      },
      "execution_count": null,
      "outputs": []
    }
  ]
}