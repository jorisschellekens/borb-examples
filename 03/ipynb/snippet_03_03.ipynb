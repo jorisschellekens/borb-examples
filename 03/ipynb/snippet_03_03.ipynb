{
  "nbformat": 4,
  "nbformat_minor": 0,
  "metadata": {
    "colab": {
      "provenance": [],
      "authorship_tag": "ABX9TyMICScXfJ1iKO9AvZSsPmb9",
      "include_colab_link": true
    },
    "kernelspec": {
      "name": "python3",
      "display_name": "Python 3"
    },
    "language_info": {
      "name": "python"
    }
  },
  "cells": [
    {
      "cell_type": "markdown",
      "metadata": {
        "id": "view-in-github",
        "colab_type": "text"
      },
      "source": [
        "<a href=\"https://colab.research.google.com/github/jorisschellekens/birb-examples/blob/main/03/ipynb/snippet_03_03.ipynb\" target=\"_parent\"><img src=\"https://colab.research.google.com/assets/colab-badge.svg\" alt=\"Open In Colab\"/></a>"
      ]
    },
    {
      "cell_type": "code",
      "execution_count": 1,
      "metadata": {
        "id": "8ml8GwW-hkxP",
        "outputId": "9beafb7f-0d9b-4732-9cb7-c6a21910af3d",
        "colab": {
          "base_uri": "https://localhost:8080/"
        }
      },
      "outputs": [
        {
          "output_type": "stream",
          "name": "stdout",
          "text": [
            "Processing ./borb-3.0.0-py3-none-any.whl\n",
            "Requirement already satisfied: setuptools>=51.1.1 in /usr/local/lib/python3.11/dist-packages (from borb==3.0.0) (75.1.0)\n",
            "Installing collected packages: borb\n",
            "Successfully installed borb-3.0.0\n"
          ]
        }
      ],
      "source": [
        "!pip install borb-3.0.0-py3-none-any.whl"
      ]
    },
    {
      "cell_type": "code",
      "source": [
        "# snippet_03_03.ipynb\n",
        "from borb.pdf import (\n",
        "    Document,\n",
        "    Image,\n",
        "    LayoutElement,\n",
        "    Page,\n",
        "    PageLayout,\n",
        "    PDF,\n",
        "    SingleColumnLayout,\n",
        "    X11Color,\n",
        ")\n",
        "import pathlib\n",
        "\n",
        "# Create an empty Document\n",
        "d: Document = Document()\n",
        "\n",
        "# Create an empty Page\n",
        "p: Page = Page()\n",
        "d.append_page(p)\n",
        "\n",
        "# Create a PageLayout\n",
        "l: PageLayout = SingleColumnLayout(p)\n",
        "\n",
        "# Download the Image\n",
        "import requests\n",
        "\n",
        "open(\"image.jpg\", \"wb\").write(\n",
        "    requests.get(\n",
        "        \"https://images.unsplash.com/photo-1525275963076-7a70249a9925\"\n",
        "    ).content\n",
        ")\n",
        "\n",
        "# Add an Image with properties\n",
        "l.append_layout_element(\n",
        "    Image(\n",
        "        bytes_path_pil_image_or_url=pathlib.Path(\"image.jpg\"),\n",
        "        size=(150, 150),\n",
        "        border_width_top=2,\n",
        "        border_width_right=2,\n",
        "        border_width_bottom=2,\n",
        "        border_width_left=2,\n",
        "        border_color=X11Color.BLACK,\n",
        "        horizontal_alignment=LayoutElement.HorizontalAlignment.MIDDLE,\n",
        "        vertical_alignment=LayoutElement.VerticalAlignment.MIDDLE,\n",
        "    )\n",
        ")\n",
        "\n",
        "# Write the PDF\n",
        "PDF.write(what=d, where_to=\"output.pdf\")"
      ],
      "metadata": {
        "id": "6hDG4Cq3hm23"
      },
      "execution_count": 2,
      "outputs": []
    }
  ]
}