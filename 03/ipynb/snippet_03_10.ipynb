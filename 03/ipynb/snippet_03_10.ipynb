{
  "nbformat": 4,
  "nbformat_minor": 0,
  "metadata": {
    "colab": {
      "provenance": [],
      "authorship_tag": "ABX9TyNcNtJ21SQgNtjJ7CQ2qYiP",
      "include_colab_link": true
    },
    "kernelspec": {
      "name": "python3",
      "display_name": "Python 3"
    },
    "language_info": {
      "name": "python"
    }
  },
  "cells": [
    {
      "cell_type": "markdown",
      "metadata": {
        "id": "view-in-github",
        "colab_type": "text"
      },
      "source": [
        "<a href=\"https://colab.research.google.com/github/jorisschellekens/birb-examples/blob/main/03/ipynb/snippet_03_10.ipynb\" target=\"_parent\"><img src=\"https://colab.research.google.com/assets/colab-badge.svg\" alt=\"Open In Colab\"/></a>"
      ]
    },
    {
      "cell_type": "code",
      "execution_count": null,
      "metadata": {
        "id": "0LKWZWADkbXe"
      },
      "outputs": [],
      "source": [
        "!pip install borb"
      ]
    },
    {
      "cell_type": "code",
      "source": [
        "!pip install matplotlib"
      ],
      "metadata": {
        "id": "yUML2fUPQcSI"
      },
      "execution_count": null,
      "outputs": []
    },
    {
      "cell_type": "code",
      "source": [
        "# snippet_03_10.ipynb\n",
        "from borb.pdf import Chart, Document, Page, PageLayout, PDF, Screenshot, SingleColumnLayout\n",
        "import math\n",
        "import matplotlib.pyplot as plt\n",
        "\n",
        "def _create_matplotlib_pyplot() -> plt:\n",
        "\n",
        "    # Data for the plot\n",
        "    x = [i for i in range(0, 360, 5)]\n",
        "    y = [math.sin(math.radians(x)) * 10 for x in x]\n",
        "\n",
        "    # Create the plot\n",
        "    plt.plot(x, y, marker=\"o\", linestyle=\"-\", color=\"b\", label=\"y = x^2\")\n",
        "\n",
        "    # Add labels and title\n",
        "    plt.xlabel(\"X-axis\")\n",
        "    plt.ylabel(\"Y-axis\")\n",
        "    plt.title(\"Simple Plot of y = sin(x) * 10\")\n",
        "\n",
        "    # return\n",
        "    return plt\n",
        "\n",
        "\n",
        "# Create an empty Document\n",
        "d: Document = Document()\n",
        "\n",
        "# Create an empty Page\n",
        "p: Page = Page()\n",
        "d.append_page(p)\n",
        "\n",
        "# Create a PageLayout\n",
        "l: PageLayout = SingleColumnLayout(p)\n",
        "\n",
        "# Add an Image\n",
        "l.append_layout_element(\n",
        "    Chart(\n",
        "        matplotlib_plt=_create_matplotlib_pyplot(),\n",
        "        size=(100, 100),\n",
        "    )\n",
        ")\n",
        "\n",
        "# Write the PDF\n",
        "PDF.write(what=d, where_to=\"output.pdf\")\n"
      ],
      "metadata": {
        "id": "0RoiyhMFkdXD"
      },
      "execution_count": null,
      "outputs": []
    }
  ]
}