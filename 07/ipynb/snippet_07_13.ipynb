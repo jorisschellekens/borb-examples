{
  "nbformat": 4,
  "nbformat_minor": 0,
  "metadata": {
    "colab": {
      "provenance": [],
      "authorship_tag": "ABX9TyPL/u1Legk8ahF/E8vyopwt",
      "include_colab_link": true
    },
    "kernelspec": {
      "name": "python3",
      "display_name": "Python 3"
    },
    "language_info": {
      "name": "python"
    }
  },
  "cells": [
    {
      "cell_type": "markdown",
      "metadata": {
        "id": "view-in-github",
        "colab_type": "text"
      },
      "source": [
        "<a href=\"https://colab.research.google.com/github/jorisschellekens/birb-examples/blob/main/07/ipynb/snippet_07_13.ipynb\" target=\"_parent\"><img src=\"https://colab.research.google.com/assets/colab-badge.svg\" alt=\"Open In Colab\"/></a>"
      ]
    },
    {
      "cell_type": "code",
      "execution_count": null,
      "metadata": {
        "id": "xSvgN8KqJC1o"
      },
      "outputs": [],
      "source": [
        "!pip install borb"
      ]
    },
    {
      "cell_type": "code",
      "source": [
        "# snippet_07_13.ipynb\n",
        "from borb.pdf import Document, Page, PageLayout, SingleColumnLayout, SmartArt\n",
        "\n",
        "# create a new Document\n",
        "d: Document = Document()\n",
        "\n",
        "# create a new Page\n",
        "p: Page = Page()\n",
        "d.append_page(p)\n",
        "\n",
        "# use a PageLayout\n",
        "l: PageLayout = SingleColumnLayout(p)\n",
        "\n",
        "# create and add a piece of SmartArt\n",
        "l.append_layout_element(\n",
        "    SmartArt.vertical_bullet_list(\n",
        "        level_1_items=[\"Cherries\", \"Papaya\", \"Avocado\"],\n",
        "        level_2_items=[\n",
        "            [\"Vitamin C\", \"Potassium\"],\n",
        "            [\"Vitamin C\", \"Vitamin A\"],\n",
        "            [\"Potassium\", \"Healthy Fats\", \"Fiber\"],\n",
        "        ],\n",
        "    )\n",
        ")\n",
        "\n",
        "# store the PDF\n",
        "PDF.write(what=d, where_to=\"output.pdf\")\n"
      ],
      "metadata": {
        "id": "y6HzkYZ9JEiV"
      },
      "execution_count": null,
      "outputs": []
    }
  ]
}