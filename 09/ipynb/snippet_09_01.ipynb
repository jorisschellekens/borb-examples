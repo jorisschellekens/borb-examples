{
  "nbformat": 4,
  "nbformat_minor": 0,
  "metadata": {
    "colab": {
      "provenance": [],
      "authorship_tag": "ABX9TyPE/JfK/j5UjpiHGTnhSpGv",
      "include_colab_link": true
    },
    "kernelspec": {
      "name": "python3",
      "display_name": "Python 3"
    },
    "language_info": {
      "name": "python"
    }
  },
  "cells": [
    {
      "cell_type": "markdown",
      "metadata": {
        "id": "view-in-github",
        "colab_type": "text"
      },
      "source": [
        "<a href=\"https://colab.research.google.com/github/jorisschellekens/birb-examples/blob/main/09/ipynb/snippet_09_01.ipynb\" target=\"_parent\"><img src=\"https://colab.research.google.com/assets/colab-badge.svg\" alt=\"Open In Colab\"/></a>"
      ]
    },
    {
      "cell_type": "code",
      "execution_count": null,
      "metadata": {
        "id": "SEEFjrQsPdPY"
      },
      "outputs": [],
      "source": [
        "!pip install borb"
      ]
    },
    {
      "cell_type": "code",
      "source": [
        "# snippet_09_01.ipynb\n",
        "from borb.pdf import Lipsum, Slideshow\n",
        "\n",
        "(\n",
        "    Slideshow()\n",
        "    .append_image_and_text(\n",
        "        text=Lipsum.generate_lorem_ipsum(500),\n",
        "        title=Lipsum.generate_lorem_ipsum(50),\n",
        "        path_or_url=\"https://images.unsplash.com/photo-1501438400798-b40ff50396c8\",\n",
        "    )\n",
        ").save(\"output.pdf\")\n",
        "\n"
      ],
      "metadata": {
        "id": "47Q6ocrxPfIb"
      },
      "execution_count": null,
      "outputs": []
    }
  ]
}