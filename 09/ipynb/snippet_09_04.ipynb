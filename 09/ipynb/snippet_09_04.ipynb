{
  "nbformat": 4,
  "nbformat_minor": 0,
  "metadata": {
    "colab": {
      "provenance": [],
      "authorship_tag": "ABX9TyOITR7ozWU+oCA6XO/+gCNp",
      "include_colab_link": true
    },
    "kernelspec": {
      "name": "python3",
      "display_name": "Python 3"
    },
    "language_info": {
      "name": "python"
    }
  },
  "cells": [
    {
      "cell_type": "markdown",
      "metadata": {
        "id": "view-in-github",
        "colab_type": "text"
      },
      "source": [
        "<a href=\"https://colab.research.google.com/github/jorisschellekens/birb-examples/blob/main/09/ipynb/snippet_09_04.ipynb\" target=\"_parent\"><img src=\"https://colab.research.google.com/assets/colab-badge.svg\" alt=\"Open In Colab\"/></a>"
      ]
    },
    {
      "cell_type": "code",
      "execution_count": null,
      "metadata": {
        "id": "XW7bEOe0TfkI"
      },
      "outputs": [],
      "source": [
        "!pip install borb"
      ]
    },
    {
      "cell_type": "code",
      "source": [
        "# snippet_09_04.ipynb\n",
        "from borb.pdf import A4PortraitInvoice\n",
        "import datetime\n",
        "\n",
        "invoice = (\n",
        "    A4PortraitInvoice()\n",
        "    .set_nr(\"INV-2024-001\")\n",
        "    .set_logo(\n",
        "        \"https://raw.githubusercontent.com/jorisschellekens/borb/refs/heads/master/logo/borb_64.png\"\n",
        "    )\n",
        "    .set_date(datetime.datetime.now())\n",
        "    .set_due_date(datetime.datetime.now() + datetime.timedelta(days=30))\n",
        "    .set_currency_abbreviation(\"USD\")\n",
        "    .set_address(\"Company Name\", \"123 Business St\", \"New York, NY\", \"10001\", \"USA\")\n",
        "    .set_bill_to(\"Client Name\", \"456 Client Rd\", \"Los Angeles, CA\", \"90001\", \"USA\")\n",
        "    .append_item(\n",
        "        amount=100.0, description=\"Consulting Services\", quantity=2, unit_price=50.0\n",
        "    )\n",
        "    .set_subtotal(100.0)\n",
        "    .set_taxes(10.0)\n",
        "    .set_discounts(5.0)\n",
        "    .set_total(105.0)\n",
        "    .set_terms_and_conditions(\"Payment due within 30 days.\")\n",
        ")\n",
        "\n",
        "invoice.save(\"invoice.pdf\")\n"
      ],
      "metadata": {
        "id": "0Gi4V7j1Tg7W"
      },
      "execution_count": null,
      "outputs": []
    }
  ]
}