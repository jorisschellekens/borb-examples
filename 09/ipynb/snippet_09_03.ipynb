{
  "nbformat": 4,
  "nbformat_minor": 0,
  "metadata": {
    "colab": {
      "provenance": [],
      "authorship_tag": "ABX9TyNuyX6AYold0eCDmp0jZgCy",
      "include_colab_link": true
    },
    "kernelspec": {
      "name": "python3",
      "display_name": "Python 3"
    },
    "language_info": {
      "name": "python"
    }
  },
  "cells": [
    {
      "cell_type": "markdown",
      "metadata": {
        "id": "view-in-github",
        "colab_type": "text"
      },
      "source": [
        "<a href=\"https://colab.research.google.com/github/jorisschellekens/birb-examples/blob/main/09/ipynb/snippet_09_03.ipynb\" target=\"_parent\"><img src=\"https://colab.research.google.com/assets/colab-badge.svg\" alt=\"Open In Colab\"/></a>"
      ]
    },
    {
      "cell_type": "code",
      "execution_count": null,
      "metadata": {
        "id": "7bpD_nGi80pc"
      },
      "outputs": [],
      "source": [
        "!pip install borb"
      ]
    },
    {
      "cell_type": "code",
      "source": [
        "# snippet_09_03.ipynb\n",
        "from borb.pdf import A4PortraitResume\n",
        "\n",
        "(\n",
        "    A4PortraitResume()\n",
        "    .set_name(\"Alex Johnson\")\n",
        "    .set_about_me(\n",
        "        \"I'm a passionate problem solver and technology enthusiast. I enjoy tackling challenges, building innovative solutions, and playing strategy games in my spare time.\"\n",
        "    )\n",
        "    .set_picture(\"https://images.unsplash.com/photo-1499996860823-5214fcc65f8f\")\n",
        "    .append_honors_or_award(\"Employee of the Year - TechInnovate\")\n",
        "    .append_honors_or_award(\"Hackathon Winner - CodeFest 2023\")\n",
        "    .append_honors_or_award(\"Published in TechWorld Magazine\")\n",
        "    .append_language_and_proficiency(\"English\", 5)\n",
        "    .append_language_and_proficiency(\"Spanish\", 4)\n",
        "    .append_language_and_proficiency(\"German\", 2)\n",
        "    .append_language_and_proficiency(\"Mandarin\", 1)\n",
        "    .append_skill(\"3D Modeling\")\n",
        "    .append_skill(\"Digital Painting\")\n",
        "    .append_skill(\"Competitive Gaming\")\n",
        "    .set_email(\"alex.johnson.fake@gmail.com\")\n",
        "    .set_linkedin(\"alexjohnson_fakelinkedin\")\n",
        "    .set_twitter(\"alex_fake_twitter\")\n",
        "    .set_phone_nr(\"+1 555 123 4567\")\n",
        "    .set_location(\"Springfield, USA\")\n",
        "    .append_work_experience(\n",
        "        company=\"TechInnovate Inc.\",\n",
        "        from_date=\"January 2023\",\n",
        "        to_date=\"Present\",\n",
        "        description=\"Leading a team of software engineers to develop AI-driven solutions for the retail industry. Implemented key product features that boosted client satisfaction by 30%.\",\n",
        "        tags=[\"python\", \"machine learning\", \"team leadership\"],\n",
        "    )\n",
        "    .append_work_experience(\n",
        "        company=\"InnoSoft Solutions\",\n",
        "        from_date=\"July 2019\",\n",
        "        to_date=\"December 2022\",\n",
        "        description=\"Developed and optimized web applications, improving load times by 50%. Collaborated with cross-functional teams to deliver projects on time.\",\n",
        "        tags=[\"javascript\", \"react\", \"devops\"],\n",
        "    )\n",
        "    .append_work_experience(\n",
        "        company=\"CodeBase Tech\",\n",
        "        from_date=\"May 2017\",\n",
        "        to_date=\"June 2019\",\n",
        "        description=\"Built scalable backend systems for e-commerce platforms. Enhanced database efficiency, reducing query response times by 40%.\",\n",
        "        tags=[\"java\", \"sql\", \"cloud computing\"],\n",
        "    )\n",
        ").save(\"output.pdf\")\n"
      ],
      "metadata": {
        "id": "ypepCM8a82xH"
      },
      "execution_count": null,
      "outputs": []
    }
  ]
}