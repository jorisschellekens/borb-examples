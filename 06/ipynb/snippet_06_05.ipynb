{
  "nbformat": 4,
  "nbformat_minor": 0,
  "metadata": {
    "colab": {
      "provenance": [],
      "authorship_tag": "ABX9TyP1ALHL1Gqvr9vAQwOrtM7o",
      "include_colab_link": true
    },
    "kernelspec": {
      "name": "python3",
      "display_name": "Python 3"
    },
    "language_info": {
      "name": "python"
    }
  },
  "cells": [
    {
      "cell_type": "markdown",
      "metadata": {
        "id": "view-in-github",
        "colab_type": "text"
      },
      "source": [
        "<a href=\"https://colab.research.google.com/github/jorisschellekens/birb-examples/blob/main/06/ipynb/snippet_06_05.ipynb\" target=\"_parent\"><img src=\"https://colab.research.google.com/assets/colab-badge.svg\" alt=\"Open In Colab\"/></a>"
      ]
    },
    {
      "cell_type": "code",
      "execution_count": null,
      "metadata": {
        "id": "6Oqpf4KoIVAm"
      },
      "outputs": [],
      "source": [
        "!pip install borb"
      ]
    },
    {
      "cell_type": "code",
      "source": [
        "# snippet_06_05.ipynb\n",
        "from borb.pdf import Document, OrderedList, Page, PageLayout, PDF, SingleColumnLayout\n",
        "\n",
        "# Create an empty Document\n",
        "d: Document = Document()\n",
        "\n",
        "# Create an empty Page\n",
        "p: Page = Page()\n",
        "d.append_page(p)\n",
        "\n",
        "# Create a PageLayout\n",
        "l: PageLayout = SingleColumnLayout(p)\n",
        "\n",
        "# Add a OrderedList\n",
        "l.append_layout_element(\n",
        "    OrderedList()\n",
        "    .append_layout_element(\n",
        "        OrderedList()\n",
        "        .append_layout_element()\n",
        "        .append_layout_element(Chunk(text=\"Ipsum\"))\n",
        "        .append_layout_element(Chunk(text=\"Dolor\"))\n",
        "    )\n",
        "    .append_layout_element(Chunk(text=\"Ipsum\"))\n",
        "    .append_layout_element(Chunk(text=\"Dolor\"))\n",
        ")\n",
        "\n",
        "# Write the PDF\n",
        "PDF.write(what=d, where_to=\"output.pdf\")"
      ],
      "metadata": {
        "id": "RjlXkBolIaDx"
      },
      "execution_count": null,
      "outputs": []
    }
  ]
}