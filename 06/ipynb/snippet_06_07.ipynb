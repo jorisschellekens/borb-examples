{
  "nbformat": 4,
  "nbformat_minor": 0,
  "metadata": {
    "colab": {
      "provenance": [],
      "authorship_tag": "ABX9TyMtGClwv8Tqu1CEmNrn2ItV",
      "include_colab_link": true
    },
    "kernelspec": {
      "name": "python3",
      "display_name": "Python 3"
    },
    "language_info": {
      "name": "python"
    }
  },
  "cells": [
    {
      "cell_type": "markdown",
      "metadata": {
        "id": "view-in-github",
        "colab_type": "text"
      },
      "source": [
        "<a href=\"https://colab.research.google.com/github/jorisschellekens/birb-examples/blob/main/06/ipynb/snippet_06_07.ipynb\" target=\"_parent\"><img src=\"https://colab.research.google.com/assets/colab-badge.svg\" alt=\"Open In Colab\"/></a>"
      ]
    },
    {
      "cell_type": "code",
      "execution_count": null,
      "metadata": {
        "id": "Gj7Fk6DNegHZ"
      },
      "outputs": [],
      "source": [
        "!pip install borb"
      ]
    },
    {
      "cell_type": "code",
      "source": [
        "# snippet_06_07.ipynb\n",
        "from borb.pdf import (\n",
        "    Document,\n",
        "    FlexibleColumnWidthTable,\n",
        "    Page,\n",
        "    PageLayout,\n",
        "    Paragraph,\n",
        "    PDF,\n",
        "    SingleColumnLayout,\n",
        ")\n",
        "\n",
        "# Create an empty Document\n",
        "d: Document = Document()\n",
        "\n",
        "# Create an empty Page\n",
        "p: Page = Page()\n",
        "d.append_page(p)\n",
        "\n",
        "# Create a PageLayout\n",
        "l: PageLayout = SingleColumnLayout(p)\n",
        "\n",
        "# Add a FlexibleColumnWidthTable\n",
        "l.append_layout_element(\n",
        "    FlexibleColumnWidthTable(number_of_columns=2, number_of_rows=3)\n",
        "    .append_layout_element(Paragraph(\"Lorem\"))\n",
        "    .append_layout_element(Paragraph(\"Ipsum\"))\n",
        "    .append_layout_element(Paragraph(\"Dolor\"))\n",
        "    .append_layout_element(Paragraph(\"Sit\"))\n",
        "    .append_layout_element(Paragraph(\"Amet\"))\n",
        "    .append_layout_element(Paragraph(\"Consectetur\"))\n",
        ")\n",
        "\n",
        "# Write the PDF\n",
        "PDF.write(what=d, where_to=\"output.pdf\")\n"
      ],
      "metadata": {
        "id": "gGbXmzujeh8V"
      },
      "execution_count": null,
      "outputs": []
    }
  ]
}