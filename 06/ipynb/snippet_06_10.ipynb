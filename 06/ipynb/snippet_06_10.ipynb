{
  "nbformat": 4,
  "nbformat_minor": 0,
  "metadata": {
    "colab": {
      "provenance": [],
      "authorship_tag": "ABX9TyNUMSAZ/cNliGMw9ZUW64O2",
      "include_colab_link": true
    },
    "kernelspec": {
      "name": "python3",
      "display_name": "Python 3"
    },
    "language_info": {
      "name": "python"
    }
  },
  "cells": [
    {
      "cell_type": "markdown",
      "metadata": {
        "id": "view-in-github",
        "colab_type": "text"
      },
      "source": [
        "<a href=\"https://colab.research.google.com/github/jorisschellekens/birb-examples/blob/main/06/ipynb/snippet_06_10.ipynb\" target=\"_parent\"><img src=\"https://colab.research.google.com/assets/colab-badge.svg\" alt=\"Open In Colab\"/></a>"
      ]
    },
    {
      "cell_type": "code",
      "execution_count": null,
      "metadata": {
        "id": "1bQxE3uMfIhn"
      },
      "outputs": [],
      "source": [
        "!pip install borb"
      ]
    },
    {
      "cell_type": "code",
      "source": [
        "# snippet_06_10.ipynb\n",
        "from borb.pdf import (\n",
        "    Document,\n",
        "    FlexibleColumnWidthTable,\n",
        "    Image,\n",
        "    Page,\n",
        "    PageLayout,\n",
        "    Paragraph,\n",
        "    PDF,\n",
        "    SingleColumnLayout,\n",
        "    Standard14Fonts\n",
        ")\n",
        "\n",
        "# Create an empty Document\n",
        "d: Document = Document()\n",
        "\n",
        "# Create an empty Page\n",
        "p: Page = Page()\n",
        "d.append_page(p)\n",
        "\n",
        "# Create a PageLayout\n",
        "l: PageLayout = SingleColumnLayout(p)\n",
        "\n",
        "# Add a FlexibleColumnWidthTable\n",
        "l.append_layout_element(\n",
        "    FlexibleColumnWidthTable(number_of_columns=3, number_of_rows=3)\n",
        "    .append_layout_element(Paragraph(\"Painting\", font=Standard14Fonts.get(\"Helvetica-Bold\")))\n",
        "    .append_layout_element(Paragraph(\"Title\", font=Standard14Fonts.get(\"Helvetica-Bold\")))\n",
        "    .append_layout_element(Paragraph(\"Artist\", font=Standard14Fonts.get(\"Helvetica-Bold\")))\n",
        "    .append_layout_element(Image('https://uploads2.wikiart.org/images/katsushika-hokusai/hydrangea-and-swallow.jpg!Large.jpg', size=(200, 200)))\n",
        "    .append_layout_element(Paragraph(\"Hydrangea and Swallow\"))\n",
        "    .append_layout_element(Paragraph(\"Katsushika Hokusai\"))\n",
        "    .append_layout_element(Image('https://uploads4.wikiart.org/images/shotei-takahashi/peony-and-paddy-birds-1926.jpg', size=(200, 200)))\n",
        "    .append_layout_element(Paragraph(\"Peony and Paddy Birds\"))\n",
        "    .append_layout_element(Paragraph(\"Shotei Takahashi\"))\n",
        "    .set_padding_on_all_cells(padding_bottom=4, padding_left=4, padding_right=4, padding_top=4)\n",
        "    .no_external_borders()\n",
        ")\n",
        "\n",
        "# Write the PDF\n",
        "PDF.write(what=d, where_to=\"output.pdf\")\n"
      ],
      "metadata": {
        "id": "2dF1lvhQfJ0k"
      },
      "execution_count": null,
      "outputs": []
    }
  ]
}