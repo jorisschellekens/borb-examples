{
  "nbformat": 4,
  "nbformat_minor": 0,
  "metadata": {
    "colab": {
      "provenance": [],
      "authorship_tag": "ABX9TyM+4zkVlsqcCkmRDEPQDYkE",
      "include_colab_link": true
    },
    "kernelspec": {
      "name": "python3",
      "display_name": "Python 3"
    },
    "language_info": {
      "name": "python"
    }
  },
  "cells": [
    {
      "cell_type": "markdown",
      "metadata": {
        "id": "view-in-github",
        "colab_type": "text"
      },
      "source": [
        "<a href=\"https://colab.research.google.com/github/jorisschellekens/borb-examples/blob/master/10/ipynb/snippet_10_05.ipynb\" target=\"_parent\"><img src=\"https://colab.research.google.com/assets/colab-badge.svg\" alt=\"Open In Colab\"/></a>"
      ]
    },
    {
      "cell_type": "code",
      "execution_count": null,
      "metadata": {
        "colab": {
          "base_uri": "https://localhost:8080/"
        },
        "id": "1aDLHTVD7Zv6",
        "outputId": "e74de229-910e-4e16-bc88-49a4ccf85e87"
      },
      "outputs": [
        {
          "output_type": "stream",
          "name": "stdout",
          "text": [
            "Collecting borb\n",
            "  Downloading borb-3.0.1-py3-none-any.whl.metadata (3.6 kB)\n",
            "Requirement already satisfied: setuptools>=51.1.1 in /usr/local/lib/python3.11/dist-packages (from borb) (75.2.0)\n",
            "Downloading borb-3.0.1-py3-none-any.whl (3.1 MB)\n",
            "\u001b[?25l   \u001b[90m━━━━━━━━━━━━━━━━━━━━━━━━━━━━━━━━━━━━━━━━\u001b[0m \u001b[32m0.0/3.1 MB\u001b[0m \u001b[31m?\u001b[0m eta \u001b[36m-:--:--\u001b[0m\r\u001b[2K   \u001b[91m━━━━━━━━━━━━━━━━━━━━━━━━━━━\u001b[0m\u001b[90m╺\u001b[0m\u001b[90m━━━━━━━━━━━━\u001b[0m \u001b[32m2.1/3.1 MB\u001b[0m \u001b[31m60.4 MB/s\u001b[0m eta \u001b[36m0:00:01\u001b[0m\r\u001b[2K   \u001b[90m━━━━━━━━━━━━━━━━━━━━━━━━━━━━━━━━━━━━━━━━\u001b[0m \u001b[32m3.1/3.1 MB\u001b[0m \u001b[31m43.2 MB/s\u001b[0m eta \u001b[36m0:00:00\u001b[0m\n",
            "\u001b[?25hInstalling collected packages: borb\n",
            "Successfully installed borb-3.0.1\n"
          ]
        }
      ],
      "source": [
        "!pip install borb"
      ]
    },
    {
      "cell_type": "code",
      "source": [
        "# snippet_10_05.ipynb\n",
        "from borb.pdf import (\n",
        "    Document,\n",
        "    FixedColumnWidthTable,\n",
        "    Image,\n",
        "    Page,\n",
        "    PageLayout,\n",
        "    Paragraph,\n",
        "    PDF,\n",
        "    SingleColumnLayout,\n",
        ")\n",
        "\n",
        "doc: Document = Document()\n",
        "\n",
        "page: Page = Page()\n",
        "doc.append_page(page)\n",
        "\n",
        "layout: PageLayout = SingleColumnLayout(page)\n",
        "\n",
        "# add company logo\n",
        "layout.append_layout_element(\n",
        "    Image(\n",
        "        \"https://raw.githubusercontent.com/jorisschellekens/borb/master/logo/borb_64.png\",\n",
        "        size=(64, 64),\n",
        "    )\n",
        ")\n",
        "\n",
        "# add invoice header\n",
        "layout.append_layout_element(\n",
        "    FixedColumnWidthTable(number_of_rows=5, number_of_columns=2)\n",
        "    .append_layout_element(Paragraph(\"[Street Address]\"))\n",
        "    .append_layout_element(Paragraph(\"Date: 01/01/1970\"))\n",
        "    .append_layout_element(Paragraph(\"[City, State, ZIP Code]\"))\n",
        "    .append_layout_element(Paragraph(\"Invoice Nr: 00001\"))\n",
        "    .append_layout_element(Paragraph(\"[Phone]\"))\n",
        "    .append_layout_element(Paragraph(\"Due Date: 01/01/1970\"))\n",
        "    .append_layout_element(Paragraph(\"[Email]\"))\n",
        "    .append_layout_element(Paragraph(\"\"))\n",
        "    .append_layout_element(Paragraph(\"[Company Website]\"))\n",
        "    .append_layout_element(Paragraph(\"\"))\n",
        ")\n",
        "\n",
        "# add bill to / ship to\n",
        "layout.append_layout_element(\n",
        "    FixedColumnWidthTable(number_of_rows=5, number_of_columns=2)\n",
        "    .append_layout_element(Paragraph(\"BILL TO\"))\n",
        "    .append_layout_element(Paragraph(\"SHIP TO\"))\n",
        "    .append_layout_element(Paragraph(\"[Recipient Name]\"))\n",
        "    .append_layout_element(Paragraph(\"[Recipient Name]\"))\n",
        "    .append_layout_element(Paragraph(\"[Street Address]\"))\n",
        "    .append_layout_element(Paragraph(\"[Street Address]\"))\n",
        "    .append_layout_element(Paragraph(\"[City, State, ZIP Code]\"))\n",
        "    .append_layout_element(Paragraph(\"[City, State, ZIP Code]\"))\n",
        "    .append_layout_element(Paragraph(\"[Phone]\"))\n",
        "    .append_layout_element(Paragraph(\"[Phone]\"))\n",
        ")\n",
        "\n",
        "# add items\n",
        "layout.append_layout_element(\n",
        "    FixedColumnWidthTable(\n",
        "        number_of_rows=3, number_of_columns=4, column_widths=[2, 1, 1, 1]\n",
        "    )\n",
        "    .append_layout_element(Paragraph(\"Description\"))\n",
        "    .append_layout_element(Paragraph(\"Price\"))\n",
        "    .append_layout_element(Paragraph(\"Quantity\"))\n",
        "    .append_layout_element(Paragraph(\"Total\"))\n",
        "    .append_layout_element(Paragraph(\"Mechanical Keyboard\"))\n",
        "    .append_layout_element(Paragraph(\"100\"))\n",
        "    .append_layout_element(Paragraph(\"3\"))\n",
        "    .append_layout_element(Paragraph(\"300\"))\n",
        "    .append_layout_element(Paragraph(\"USB-C Docking Station\"))\n",
        "    .append_layout_element(Paragraph(\"150\"))\n",
        "    .append_layout_element(Paragraph(\"1\"))\n",
        "    .append_layout_element(Paragraph(\"150\"))\n",
        ")\n",
        "\n",
        "PDF.write(what=doc, where_to=\"output.pdf\")"
      ],
      "metadata": {
        "id": "D5ozoQxB7b0S"
      },
      "execution_count": null,
      "outputs": []
    }
  ]
}